{
 "cells": [
  {
   "cell_type": "code",
   "execution_count": 10,
   "metadata": {},
   "outputs": [],
   "source": [
    "import matplotlib.image as mpimg \n",
    "import matplotlib.pyplot as plt \n",
    "  \n",
    "# Read Images \n",
    "image = mpimg.imread(\"pebbles.jpg\") \n"
   ]
  },
  {
   "cell_type": "code",
   "execution_count": 13,
   "metadata": {},
   "outputs": [
    {
     "data": {
      "text/plain": [
       "(600, 800, 3)"
      ]
     },
     "execution_count": 13,
     "metadata": {},
     "output_type": "execute_result"
    }
   ],
   "source": [
    "def red_channel(image):\n",
    "    ret = image.deepcopy()\n",
    "    for row in range(image.shape[0]):\n",
    "        for col in range(image.shape[1]):\n",
    "            image[row][col]\n",
    "            "
   ]
  },
  {
   "cell_type": "code",
   "execution_count": 12,
   "metadata": {},
   "outputs": [
    {
     "data": {
      "text/plain": [
       "array([[[103, 119, 153],\n",
       "        [100, 115, 146],\n",
       "        [ 97, 111, 138],\n",
       "        ...,\n",
       "        [134, 120, 119],\n",
       "        [142, 128, 125],\n",
       "        [138, 127, 123]],\n",
       "\n",
       "       [[106, 122, 158],\n",
       "        [ 99, 114, 147],\n",
       "        [ 96, 107, 135],\n",
       "        ...,\n",
       "        [124, 106, 106],\n",
       "        [138, 123, 120],\n",
       "        [152, 138, 135]],\n",
       "\n",
       "       [[106, 122, 158],\n",
       "        [ 99, 114, 147],\n",
       "        [ 96, 107, 137],\n",
       "        ...,\n",
       "        [ 98,  78,  79],\n",
       "        [116,  96,  97],\n",
       "        [137, 119, 117]],\n",
       "\n",
       "       ...,\n",
       "\n",
       "       [[139, 132, 148],\n",
       "        [137, 130, 146],\n",
       "        [135, 129, 143],\n",
       "        ...,\n",
       "        [ 80,  72,  69],\n",
       "        [ 75,  68,  60],\n",
       "        [ 76,  69,  61]],\n",
       "\n",
       "       [[139, 132, 148],\n",
       "        [136, 129, 145],\n",
       "        [157, 151, 165],\n",
       "        ...,\n",
       "        [ 91,  83,  80],\n",
       "        [ 73,  66,  60],\n",
       "        [ 71,  64,  56]],\n",
       "\n",
       "       [[142, 133, 150],\n",
       "        [149, 140, 157],\n",
       "        [178, 170, 185],\n",
       "        ...,\n",
       "        [ 80,  75,  71],\n",
       "        [ 76,  71,  65],\n",
       "        [ 70,  63,  55]]], dtype=uint8)"
      ]
     },
     "execution_count": 12,
     "metadata": {},
     "output_type": "execute_result"
    }
   ],
   "source": [
    "image"
   ]
  },
  {
   "cell_type": "code",
   "execution_count": 14,
   "metadata": {},
   "outputs": [],
   "source": [
    "pairs = [('stanford.edu', '/meh'), ('google.com','/search'),\n",
    "  ('stanford.edu', '/admit'), ('google.com', '/aardvark')]"
   ]
  },
  {
   "cell_type": "code",
   "execution_count": 22,
   "metadata": {},
   "outputs": [
    {
     "data": {
      "text/plain": [
       "[('google.com', '/aardvark'),\n",
       " ('google.com', '/search'),\n",
       " ('stanford.edu', '/admit'),\n",
       " ('stanford.edu', '/meh')]"
      ]
     },
     "execution_count": 22,
     "metadata": {},
     "output_type": "execute_result"
    }
   ],
   "source": [
    "sorted(pairs, key=lambda x: (x[0], x[1]))"
   ]
  },
  {
   "cell_type": "code",
   "execution_count": 23,
   "metadata": {},
   "outputs": [],
   "source": [
    "d = {'a': 'alpha', 'g': 'gamma', 'b': 'beta'}"
   ]
  },
  {
   "cell_type": "code",
   "execution_count": 24,
   "metadata": {},
   "outputs": [
    {
     "name": "stdout",
     "output_type": "stream",
     "text": [
      "dict_keys(['a', 'g', 'b'])\n"
     ]
    }
   ],
   "source": [
    "print(d.keys())"
   ]
  },
  {
   "cell_type": "code",
   "execution_count": 25,
   "metadata": {},
   "outputs": [
    {
     "data": {
      "text/plain": [
       "['a', 'b', 'g']"
      ]
     },
     "execution_count": 25,
     "metadata": {},
     "output_type": "execute_result"
    }
   ],
   "source": [
    "sorted(d.keys(), key = lambda x : x)"
   ]
  },
  {
   "cell_type": "code",
   "execution_count": null,
   "metadata": {},
   "outputs": [],
   "source": []
  }
 ],
 "metadata": {
  "kernelspec": {
   "display_name": "Python [conda env:DoWhy]",
   "language": "python",
   "name": "conda-env-DoWhy-py"
  },
  "language_info": {
   "codemirror_mode": {
    "name": "ipython",
    "version": 3
   },
   "file_extension": ".py",
   "mimetype": "text/x-python",
   "name": "python",
   "nbconvert_exporter": "python",
   "pygments_lexer": "ipython3",
   "version": "3.7.3"
  }
 },
 "nbformat": 4,
 "nbformat_minor": 2
}
