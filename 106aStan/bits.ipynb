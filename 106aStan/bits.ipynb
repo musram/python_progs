{
 "cells": [
  {
   "cell_type": "code",
   "execution_count": null,
   "metadata": {},
   "outputs": [],
   "source": []
  },
  {
   "cell_type": "code",
   "execution_count": null,
   "metadata": {},
   "outputs": [],
   "source": [
    "class Bit:\n",
    "    \n",
    "    Blue = 'B'\n",
    "    Green = 'G'\n",
    "    \n",
    "    def__init__(self, cols, rows):\n",
    "        self.rows = rows\n",
    "        self.cols = cols\n",
    "        self.grid = [[ i for i in range(cols) ] for j in rows] \n",
    "        self.x = 0\n",
    "        self.y = 0\n",
    "        self.possible = [ ]\n",
    "        self.paint = {}\n",
    "        \n",
    "    def state(self):\n",
    "        if (self.x -1 >= 0):\n",
    "            self.possible.append(\"L\")\n",
    "        if (self.x - rows > 0):\n",
    "            self.possible.append(\"R\")\n",
    "        if (self.y -1 >= 0):\n",
    "            self.possible.append(\"T\")\n",
    "        if (self.y - cols > 0):\n",
    "            self.possible.append(\"B\")    \n",
    "    \n",
    "    def left(self):\n",
    "        state()\n",
    "        \n",
    "            \n",
    "        \n",
    "         "
   ]
  },
  {
   "cell_type": "code",
   "execution_count": null,
   "metadata": {},
   "outputs": [],
   "source": []
  }
 ],
 "metadata": {
  "kernelspec": {
   "display_name": "Python [conda env:DoWhy]",
   "language": "python",
   "name": "conda-env-DoWhy-py"
  },
  "language_info": {
   "codemirror_mode": {
    "name": "ipython",
    "version": 3
   },
   "file_extension": ".py",
   "mimetype": "text/x-python",
   "name": "python",
   "nbconvert_exporter": "python",
   "pygments_lexer": "ipython3",
   "version": "3.7.3"
  }
 },
 "nbformat": 4,
 "nbformat_minor": 2
}
